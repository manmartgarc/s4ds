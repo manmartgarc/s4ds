{
 "cells": [
  {
   "cell_type": "markdown",
   "metadata": {},
   "source": [
    "# Chapter 2 - Exploratory Data Analysis\n",
    "## Worked examples"
   ]
  },
  {
   "cell_type": "code",
   "execution_count": 31,
   "metadata": {},
   "outputs": [],
   "source": [
    "import os\n",
    "import pandas as pd\n",
    "import numpy as np\n",
    "from scipy.stats import trim_mean"
   ]
  },
  {
   "cell_type": "code",
   "execution_count": 32,
   "metadata": {},
   "outputs": [],
   "source": [
    "# initialize environment\n",
    "ROOT_DIR = os.path.join(os.getcwd(), '../..')\n",
    "DATA_DIR = os.path.join(ROOT_DIR, 'data')"
   ]
  },
  {
   "cell_type": "code",
   "execution_count": 33,
   "metadata": {},
   "outputs": [],
   "source": [
    "# load data\n",
    "df = pd.read_csv(os.path.join(DATA_DIR, 'state.csv'))"
   ]
  },
  {
   "cell_type": "markdown",
   "metadata": {},
   "source": [
    "## Example: Location estimates of Population and Murder Rates"
   ]
  },
  {
   "cell_type": "markdown",
   "metadata": {},
   "source": [
    "### Take the mean of a column"
   ]
  },
  {
   "cell_type": "code",
   "execution_count": 34,
   "metadata": {},
   "outputs": [
    {
     "name": "stdout",
     "output_type": "stream",
     "text": [
      "Population mean = 6162876.3\n"
     ]
    }
   ],
   "source": [
    "print('Population mean = {}'.format(df['Population'].mean()))"
   ]
  },
  {
   "cell_type": "markdown",
   "metadata": {},
   "source": [
    "### Take the trimmed mean\n",
    "Note that this is not the same as windsorizing."
   ]
  },
  {
   "cell_type": "code",
   "execution_count": 35,
   "metadata": {},
   "outputs": [
    {
     "name": "stdout",
     "output_type": "stream",
     "text": [
      "Population trimmed mean = 4783697.125\n"
     ]
    }
   ],
   "source": [
    "print('Population trimmed mean = {}'\n",
    "      .format(trim_mean(df['Population'], proportiontocut=0.1)))"
   ]
  },
  {
   "cell_type": "markdown",
   "metadata": {},
   "source": [
    "# Median of a column"
   ]
  },
  {
   "cell_type": "code",
   "execution_count": 36,
   "metadata": {},
   "outputs": [
    {
     "name": "stdout",
     "output_type": "stream",
     "text": [
      "Population median = 4436369.5\n"
     ]
    }
   ],
   "source": [
    "print('Population median = {}'.format(df['Population'].median()))"
   ]
  },
  {
   "cell_type": "markdown",
   "metadata": {},
   "source": [
    "### Unweighted mean"
   ]
  },
  {
   "cell_type": "code",
   "execution_count": 37,
   "metadata": {},
   "outputs": [
    {
     "name": "stdout",
     "output_type": "stream",
     "text": [
      "Unweighted mean = 4.066\n"
     ]
    }
   ],
   "source": [
    "print('Unweighted mean = {}'.format(df['Murder.Rate'].mean()))"
   ]
  },
  {
   "cell_type": "markdown",
   "metadata": {},
   "source": [
    "### Weighted mean\n",
    "This will be a little bit more involved since there are no vanilla (pandas) weighted mean functions. However, this is no issue as we can create a short function that does this for us.\n",
    "\n",
    "It is worth remembering the motivations of taking weighted means:\n",
    "\n",
    "- Some values are intrinsically more variable than others, and highly variable observations are given a lower weight. (multiple sensors, one unaccurate sensor, downweight it)\n",
    "- The data collected does not equally represent the different groups that we are interested in measuring. (underrepresented groups get a higher weight, in relationship to the overall population)"
   ]
  },
  {
   "cell_type": "code",
   "execution_count": 39,
   "metadata": {},
   "outputs": [
    {
     "name": "stdout",
     "output_type": "stream",
     "text": [
      "Weighted mean = 4.445833981123392\n"
     ]
    }
   ],
   "source": [
    "def wmean(group_col, mean_col, weight_col, data=df):\n",
    "    \"\"\"\n",
    "    Take the mean of mean_col and apply the weights from group_col,\n",
    "    and weight_col and returns a weighted mean.\n",
    "    \"\"\"\n",
    "\n",
    "    # calculate weights\n",
    "    weights = \\\n",
    "        data.groupby(group_col)[weight_col].sum() / data[weight_col].sum()\n",
    "\n",
    "    # calculate means\n",
    "    means = \\\n",
    "        data.groupby(group_col)[mean_col].mean()\n",
    "\n",
    "    # concatenate to make sure weight_i is with mean_i\n",
    "    x = pd.concat([weights, means], axis=1)\n",
    "\n",
    "    # muliply weights * means, and divide over the sum of the weights.\n",
    "    w_mean = x.prod(axis=1).sum() / weights.sum()\n",
    "\n",
    "    return w_mean\n",
    "\n",
    "\n",
    "print('Weighted mean = {}'\n",
    "      .format(wmean(group_col='State',\n",
    "                    mean_col='Murder.Rate',\n",
    "                    weight_col='Population',\n",
    "                    data=df)))"
   ]
  },
  {
   "cell_type": "code",
   "execution_count": null,
   "metadata": {},
   "outputs": [],
   "source": []
  }
 ],
 "metadata": {
  "kernelspec": {
   "display_name": "Python 3",
   "language": "python",
   "name": "python3"
  },
  "language_info": {
   "name": ""
  }
 },
 "nbformat": 4,
 "nbformat_minor": 2
}
